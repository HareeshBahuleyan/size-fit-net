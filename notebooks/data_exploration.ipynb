{
 "cells": [
  {
   "cell_type": "code",
   "execution_count": 1,
   "metadata": {},
   "outputs": [],
   "source": [
    "import re\n",
    "\n",
    "import numpy as np\n",
    "import pandas as pd\n",
    "\n",
    "from tqdm import tqdm"
   ]
  },
  {
   "cell_type": "code",
   "execution_count": 2,
   "metadata": {},
   "outputs": [],
   "source": [
    "data_path = '../data/modcloth_final_data.json'"
   ]
  },
  {
   "cell_type": "code",
   "execution_count": 3,
   "metadata": {},
   "outputs": [
    {
     "name": "stdout",
     "output_type": "stream",
     "text": [
      "Number of records = 82790\n",
      "----------------------------------------\n",
      "Attribute List:\n",
      "----------------------------------------\n",
      "Index(['item_id', 'waist', 'size', 'quality', 'cup_size', 'hips', 'bra_size',\n",
      "       'category', 'bust', 'height', 'user_name', 'length', 'fit', 'user_id',\n",
      "       'shoe_size', 'shoe_width', 'review_summary', 'review_text'],\n",
      "      dtype='object')\n"
     ]
    }
   ],
   "source": [
    "df_records = pd.read_json(data_path, lines=True)\n",
    "\n",
    "print('Number of records = {}'.format(len(df_records)))\n",
    "print('-'*40)\n",
    "print('Attribute List:')\n",
    "print('-'*40)\n",
    "df_records.columns = [x.replace(\" \",\"_\") for x in df_records.columns]\n",
    "print(df_records.columns)"
   ]
  },
  {
   "cell_type": "code",
   "execution_count": 4,
   "metadata": {},
   "outputs": [
    {
     "name": "stdout",
     "output_type": "stream",
     "text": [
      "(82790, 18)\n"
     ]
    },
    {
     "data": {
      "text/html": [
       "<div>\n",
       "<style scoped>\n",
       "    .dataframe tbody tr th:only-of-type {\n",
       "        vertical-align: middle;\n",
       "    }\n",
       "\n",
       "    .dataframe tbody tr th {\n",
       "        vertical-align: top;\n",
       "    }\n",
       "\n",
       "    .dataframe thead th {\n",
       "        text-align: right;\n",
       "    }\n",
       "</style>\n",
       "<table border=\"1\" class=\"dataframe\">\n",
       "  <thead>\n",
       "    <tr style=\"text-align: right;\">\n",
       "      <th></th>\n",
       "      <th>item_id</th>\n",
       "      <th>waist</th>\n",
       "      <th>size</th>\n",
       "      <th>quality</th>\n",
       "      <th>cup_size</th>\n",
       "      <th>hips</th>\n",
       "      <th>bra_size</th>\n",
       "      <th>category</th>\n",
       "      <th>bust</th>\n",
       "      <th>height</th>\n",
       "      <th>user_name</th>\n",
       "      <th>length</th>\n",
       "      <th>fit</th>\n",
       "      <th>user_id</th>\n",
       "      <th>shoe_size</th>\n",
       "      <th>shoe_width</th>\n",
       "      <th>review_summary</th>\n",
       "      <th>review_text</th>\n",
       "    </tr>\n",
       "  </thead>\n",
       "  <tbody>\n",
       "    <tr>\n",
       "      <th>0</th>\n",
       "      <td>123373</td>\n",
       "      <td>29.0</td>\n",
       "      <td>7</td>\n",
       "      <td>5.0</td>\n",
       "      <td>d</td>\n",
       "      <td>38.0</td>\n",
       "      <td>34.0</td>\n",
       "      <td>new</td>\n",
       "      <td>36</td>\n",
       "      <td>5ft 6in</td>\n",
       "      <td>Emily</td>\n",
       "      <td>just right</td>\n",
       "      <td>small</td>\n",
       "      <td>991571</td>\n",
       "      <td>NaN</td>\n",
       "      <td>NaN</td>\n",
       "      <td>NaN</td>\n",
       "      <td>NaN</td>\n",
       "    </tr>\n",
       "  </tbody>\n",
       "</table>\n",
       "</div>"
      ],
      "text/plain": [
       "   item_id  waist  size  quality cup_size  hips  bra_size category bust  \\\n",
       "0   123373   29.0     7      5.0        d  38.0      34.0      new   36   \n",
       "\n",
       "    height user_name      length    fit  user_id  shoe_size shoe_width  \\\n",
       "0  5ft 6in     Emily  just right  small   991571        NaN        NaN   \n",
       "\n",
       "  review_summary review_text  \n",
       "0            NaN         NaN  "
      ]
     },
     "execution_count": 4,
     "metadata": {},
     "output_type": "execute_result"
    }
   ],
   "source": [
    "print(df_records.shape)\n",
    "df_records.head(1)"
   ]
  },
  {
   "cell_type": "code",
   "execution_count": null,
   "metadata": {},
   "outputs": [],
   "source": []
  },
  {
   "cell_type": "markdown",
   "metadata": {},
   "source": [
    "### Attribute Types"
   ]
  },
  {
   "cell_type": "markdown",
   "metadata": {},
   "source": [
    "According to the paper,\n",
    "- fit : is the target variable\n",
    "- category, shoe_width, item_id, user_id : are treated as categorical and we learn embeddings for representing them\n",
    "- quality, size, shoe_size, waist, bust, cup_size, bra_size, hips, height : are treated as regular categorical/numerical variables\n",
    "- user_name, length, review_summary, review_text : are not considered"
   ]
  },
  {
   "cell_type": "code",
   "execution_count": 5,
   "metadata": {},
   "outputs": [
    {
     "data": {
      "text/plain": [
       "item_id         int64\n",
       "waist         float64\n",
       "size            int64\n",
       "quality       float64\n",
       "cup_size       object\n",
       "hips          float64\n",
       "bra_size      float64\n",
       "category       object\n",
       "bust           object\n",
       "height         object\n",
       "fit            object\n",
       "user_id         int64\n",
       "shoe_size     float64\n",
       "shoe_width     object\n",
       "dtype: object"
      ]
     },
     "execution_count": 5,
     "metadata": {},
     "output_type": "execute_result"
    }
   ],
   "source": [
    "df_records.drop(['user_name', 'length', 'review_summary', 'review_text'], axis=1, inplace=True)\n",
    "df_records.dtypes"
   ]
  },
  {
   "cell_type": "code",
   "execution_count": null,
   "metadata": {},
   "outputs": [],
   "source": []
  },
  {
   "cell_type": "markdown",
   "metadata": {},
   "source": [
    "On inspection, \n",
    "- `fit` and `category` have no NaNs\n",
    "- `bust` and `shoe_width` have too many NaNs --> dropping those columns for simplicity\n",
    "- `cup_size` and `height` have missing values (NaNs) --> try data imputation \n"
   ]
  },
  {
   "cell_type": "code",
   "execution_count": 6,
   "metadata": {},
   "outputs": [],
   "source": [
    "df_records.drop(['bust', 'shoe_width'], axis=1, inplace=True)"
   ]
  },
  {
   "cell_type": "code",
   "execution_count": null,
   "metadata": {},
   "outputs": [],
   "source": []
  },
  {
   "cell_type": "markdown",
   "metadata": {},
   "source": [
    "### Missing Data Imputation\n",
    "- For numeric (float/int) columns, replace with median value\n",
    "- For others, replace with most frequent value\n",
    "- Can be replaced with more complex strategies"
   ]
  },
  {
   "cell_type": "code",
   "execution_count": 7,
   "metadata": {},
   "outputs": [
    {
     "data": {
      "text/html": [
       "<div>\n",
       "<style scoped>\n",
       "    .dataframe tbody tr th:only-of-type {\n",
       "        vertical-align: middle;\n",
       "    }\n",
       "\n",
       "    .dataframe tbody tr th {\n",
       "        vertical-align: top;\n",
       "    }\n",
       "\n",
       "    .dataframe thead th {\n",
       "        text-align: right;\n",
       "    }\n",
       "</style>\n",
       "<table border=\"1\" class=\"dataframe\">\n",
       "  <thead>\n",
       "    <tr style=\"text-align: right;\">\n",
       "      <th></th>\n",
       "      <th>item_id</th>\n",
       "      <th>waist</th>\n",
       "      <th>size</th>\n",
       "      <th>quality</th>\n",
       "      <th>cup_size</th>\n",
       "      <th>hips</th>\n",
       "      <th>bra_size</th>\n",
       "      <th>category</th>\n",
       "      <th>height</th>\n",
       "      <th>fit</th>\n",
       "      <th>user_id</th>\n",
       "      <th>shoe_size</th>\n",
       "    </tr>\n",
       "  </thead>\n",
       "  <tbody>\n",
       "    <tr>\n",
       "      <th>0</th>\n",
       "      <td>123373</td>\n",
       "      <td>29.0</td>\n",
       "      <td>7</td>\n",
       "      <td>5.0</td>\n",
       "      <td>d</td>\n",
       "      <td>38.0</td>\n",
       "      <td>34.0</td>\n",
       "      <td>new</td>\n",
       "      <td>5ft 6in</td>\n",
       "      <td>small</td>\n",
       "      <td>991571</td>\n",
       "      <td>NaN</td>\n",
       "    </tr>\n",
       "    <tr>\n",
       "      <th>1</th>\n",
       "      <td>123373</td>\n",
       "      <td>31.0</td>\n",
       "      <td>13</td>\n",
       "      <td>3.0</td>\n",
       "      <td>b</td>\n",
       "      <td>30.0</td>\n",
       "      <td>36.0</td>\n",
       "      <td>new</td>\n",
       "      <td>5ft 2in</td>\n",
       "      <td>small</td>\n",
       "      <td>587883</td>\n",
       "      <td>NaN</td>\n",
       "    </tr>\n",
       "    <tr>\n",
       "      <th>2</th>\n",
       "      <td>123373</td>\n",
       "      <td>30.0</td>\n",
       "      <td>7</td>\n",
       "      <td>2.0</td>\n",
       "      <td>b</td>\n",
       "      <td>NaN</td>\n",
       "      <td>32.0</td>\n",
       "      <td>new</td>\n",
       "      <td>5ft 7in</td>\n",
       "      <td>small</td>\n",
       "      <td>395665</td>\n",
       "      <td>9.0</td>\n",
       "    </tr>\n",
       "    <tr>\n",
       "      <th>3</th>\n",
       "      <td>123373</td>\n",
       "      <td>NaN</td>\n",
       "      <td>21</td>\n",
       "      <td>5.0</td>\n",
       "      <td>dd/e</td>\n",
       "      <td>NaN</td>\n",
       "      <td>NaN</td>\n",
       "      <td>new</td>\n",
       "      <td>NaN</td>\n",
       "      <td>fit</td>\n",
       "      <td>875643</td>\n",
       "      <td>NaN</td>\n",
       "    </tr>\n",
       "    <tr>\n",
       "      <th>4</th>\n",
       "      <td>123373</td>\n",
       "      <td>NaN</td>\n",
       "      <td>18</td>\n",
       "      <td>5.0</td>\n",
       "      <td>b</td>\n",
       "      <td>NaN</td>\n",
       "      <td>36.0</td>\n",
       "      <td>new</td>\n",
       "      <td>5ft 2in</td>\n",
       "      <td>small</td>\n",
       "      <td>944840</td>\n",
       "      <td>NaN</td>\n",
       "    </tr>\n",
       "  </tbody>\n",
       "</table>\n",
       "</div>"
      ],
      "text/plain": [
       "   item_id  waist  size  quality cup_size  hips  bra_size category   height  \\\n",
       "0   123373   29.0     7      5.0        d  38.0      34.0      new  5ft 6in   \n",
       "1   123373   31.0    13      3.0        b  30.0      36.0      new  5ft 2in   \n",
       "2   123373   30.0     7      2.0        b   NaN      32.0      new  5ft 7in   \n",
       "3   123373    NaN    21      5.0     dd/e   NaN       NaN      new      NaN   \n",
       "4   123373    NaN    18      5.0        b   NaN      36.0      new  5ft 2in   \n",
       "\n",
       "     fit  user_id  shoe_size  \n",
       "0  small   991571        NaN  \n",
       "1  small   587883        NaN  \n",
       "2  small   395665        9.0  \n",
       "3    fit   875643        NaN  \n",
       "4  small   944840        NaN  "
      ]
     },
     "execution_count": 7,
     "metadata": {},
     "output_type": "execute_result"
    }
   ],
   "source": [
    "df_records.head()"
   ]
  },
  {
   "cell_type": "code",
   "execution_count": 8,
   "metadata": {},
   "outputs": [
    {
     "data": {
      "text/plain": [
       "item_id        int64\n",
       "waist        float64\n",
       "size           int64\n",
       "quality      float64\n",
       "cup_size      object\n",
       "hips         float64\n",
       "bra_size     float64\n",
       "category      object\n",
       "height        object\n",
       "fit           object\n",
       "user_id        int64\n",
       "shoe_size    float64\n",
       "dtype: object"
      ]
     },
     "execution_count": 8,
     "metadata": {},
     "output_type": "execute_result"
    }
   ],
   "source": [
    "df_records.dtypes"
   ]
  },
  {
   "cell_type": "code",
   "execution_count": 9,
   "metadata": {},
   "outputs": [],
   "source": [
    "from sklearn.impute import SimpleImputer\n",
    "median_imputer = SimpleImputer(missing_values=np.nan, strategy='median')\n",
    "frequent_imputer = SimpleImputer(missing_values=np.nan, strategy='most_frequent')"
   ]
  },
  {
   "cell_type": "code",
   "execution_count": 10,
   "metadata": {},
   "outputs": [],
   "source": [
    "numeric_columns = ['waist', 'size', 'quality', 'hips', 'bra_size', 'shoe_size']\n",
    "string_columns = ['cup_size', 'height']\n",
    "\n",
    "for col in numeric_columns:\n",
    "    df_records[col] = median_imputer.fit_transform(np.array(df_records[col]).reshape(-1,1)).squeeze()\n",
    "    \n",
    "for col in string_columns:\n",
    "    df_records[col] = frequent_imputer.fit_transform(np.array(df_records[col]).reshape(-1,1)).squeeze()"
   ]
  },
  {
   "cell_type": "code",
   "execution_count": 11,
   "metadata": {},
   "outputs": [
    {
     "data": {
      "text/html": [
       "<div>\n",
       "<style scoped>\n",
       "    .dataframe tbody tr th:only-of-type {\n",
       "        vertical-align: middle;\n",
       "    }\n",
       "\n",
       "    .dataframe tbody tr th {\n",
       "        vertical-align: top;\n",
       "    }\n",
       "\n",
       "    .dataframe thead th {\n",
       "        text-align: right;\n",
       "    }\n",
       "</style>\n",
       "<table border=\"1\" class=\"dataframe\">\n",
       "  <thead>\n",
       "    <tr style=\"text-align: right;\">\n",
       "      <th></th>\n",
       "      <th>item_id</th>\n",
       "      <th>waist</th>\n",
       "      <th>size</th>\n",
       "      <th>quality</th>\n",
       "      <th>cup_size</th>\n",
       "      <th>hips</th>\n",
       "      <th>bra_size</th>\n",
       "      <th>category</th>\n",
       "      <th>height</th>\n",
       "      <th>fit</th>\n",
       "      <th>user_id</th>\n",
       "      <th>shoe_size</th>\n",
       "    </tr>\n",
       "  </thead>\n",
       "  <tbody>\n",
       "    <tr>\n",
       "      <th>0</th>\n",
       "      <td>123373</td>\n",
       "      <td>29.0</td>\n",
       "      <td>7.0</td>\n",
       "      <td>5.0</td>\n",
       "      <td>d</td>\n",
       "      <td>38.0</td>\n",
       "      <td>34.0</td>\n",
       "      <td>new</td>\n",
       "      <td>5ft 6in</td>\n",
       "      <td>small</td>\n",
       "      <td>991571</td>\n",
       "      <td>8.0</td>\n",
       "    </tr>\n",
       "    <tr>\n",
       "      <th>1</th>\n",
       "      <td>123373</td>\n",
       "      <td>31.0</td>\n",
       "      <td>13.0</td>\n",
       "      <td>3.0</td>\n",
       "      <td>b</td>\n",
       "      <td>30.0</td>\n",
       "      <td>36.0</td>\n",
       "      <td>new</td>\n",
       "      <td>5ft 2in</td>\n",
       "      <td>small</td>\n",
       "      <td>587883</td>\n",
       "      <td>8.0</td>\n",
       "    </tr>\n",
       "    <tr>\n",
       "      <th>2</th>\n",
       "      <td>123373</td>\n",
       "      <td>30.0</td>\n",
       "      <td>7.0</td>\n",
       "      <td>2.0</td>\n",
       "      <td>b</td>\n",
       "      <td>39.0</td>\n",
       "      <td>32.0</td>\n",
       "      <td>new</td>\n",
       "      <td>5ft 7in</td>\n",
       "      <td>small</td>\n",
       "      <td>395665</td>\n",
       "      <td>9.0</td>\n",
       "    </tr>\n",
       "    <tr>\n",
       "      <th>3</th>\n",
       "      <td>123373</td>\n",
       "      <td>30.0</td>\n",
       "      <td>21.0</td>\n",
       "      <td>5.0</td>\n",
       "      <td>dd/e</td>\n",
       "      <td>39.0</td>\n",
       "      <td>36.0</td>\n",
       "      <td>new</td>\n",
       "      <td>5ft 4in</td>\n",
       "      <td>fit</td>\n",
       "      <td>875643</td>\n",
       "      <td>8.0</td>\n",
       "    </tr>\n",
       "    <tr>\n",
       "      <th>4</th>\n",
       "      <td>123373</td>\n",
       "      <td>30.0</td>\n",
       "      <td>18.0</td>\n",
       "      <td>5.0</td>\n",
       "      <td>b</td>\n",
       "      <td>39.0</td>\n",
       "      <td>36.0</td>\n",
       "      <td>new</td>\n",
       "      <td>5ft 2in</td>\n",
       "      <td>small</td>\n",
       "      <td>944840</td>\n",
       "      <td>8.0</td>\n",
       "    </tr>\n",
       "  </tbody>\n",
       "</table>\n",
       "</div>"
      ],
      "text/plain": [
       "   item_id  waist  size  quality cup_size  hips  bra_size category   height  \\\n",
       "0   123373   29.0   7.0      5.0        d  38.0      34.0      new  5ft 6in   \n",
       "1   123373   31.0  13.0      3.0        b  30.0      36.0      new  5ft 2in   \n",
       "2   123373   30.0   7.0      2.0        b  39.0      32.0      new  5ft 7in   \n",
       "3   123373   30.0  21.0      5.0     dd/e  39.0      36.0      new  5ft 4in   \n",
       "4   123373   30.0  18.0      5.0        b  39.0      36.0      new  5ft 2in   \n",
       "\n",
       "     fit  user_id  shoe_size  \n",
       "0  small   991571        8.0  \n",
       "1  small   587883        8.0  \n",
       "2  small   395665        9.0  \n",
       "3    fit   875643        8.0  \n",
       "4  small   944840        8.0  "
      ]
     },
     "execution_count": 11,
     "metadata": {},
     "output_type": "execute_result"
    }
   ],
   "source": [
    "df_records.head()"
   ]
  },
  {
   "cell_type": "code",
   "execution_count": null,
   "metadata": {},
   "outputs": [],
   "source": []
  },
  {
   "cell_type": "markdown",
   "metadata": {},
   "source": [
    "#### Converting height to numeric column"
   ]
  },
  {
   "cell_type": "code",
   "execution_count": 12,
   "metadata": {},
   "outputs": [],
   "source": [
    "def get_float_height(height):\n",
    "    \"\"\"\n",
    "    Convert string height to float (metres)\n",
    "    \"\"\"\n",
    "    \n",
    "    output = height.split(' ')\n",
    "    if len(output) == 2:\n",
    "        feet, inches = output[0], output[1]\n",
    "    else:\n",
    "        feet, inches = output[0], \"0in\"\n",
    "    feet = float(re.findall('\\d+', feet)[0])\n",
    "    inches = float(re.findall('\\d+', inches)[0])\n",
    "    \n",
    "    metres = (feet * 0.3048) + (inches * 0.0254)\n",
    "    \n",
    "    return metres"
   ]
  },
  {
   "cell_type": "code",
   "execution_count": 13,
   "metadata": {},
   "outputs": [],
   "source": [
    "df_records['height'] = df_records['height'].apply(get_float_height).head()"
   ]
  },
  {
   "cell_type": "code",
   "execution_count": null,
   "metadata": {},
   "outputs": [],
   "source": []
  },
  {
   "cell_type": "markdown",
   "metadata": {},
   "source": [
    "### Normalize Numeric Features"
   ]
  },
  {
   "cell_type": "code",
   "execution_count": 14,
   "metadata": {},
   "outputs": [
    {
     "data": {
      "text/html": [
       "<div>\n",
       "<style scoped>\n",
       "    .dataframe tbody tr th:only-of-type {\n",
       "        vertical-align: middle;\n",
       "    }\n",
       "\n",
       "    .dataframe tbody tr th {\n",
       "        vertical-align: top;\n",
       "    }\n",
       "\n",
       "    .dataframe thead th {\n",
       "        text-align: right;\n",
       "    }\n",
       "</style>\n",
       "<table border=\"1\" class=\"dataframe\">\n",
       "  <thead>\n",
       "    <tr style=\"text-align: right;\">\n",
       "      <th></th>\n",
       "      <th>waist</th>\n",
       "      <th>size</th>\n",
       "      <th>quality</th>\n",
       "      <th>hips</th>\n",
       "      <th>bra_size</th>\n",
       "      <th>height</th>\n",
       "      <th>shoe_size</th>\n",
       "    </tr>\n",
       "  </thead>\n",
       "  <tbody>\n",
       "    <tr>\n",
       "      <th>0</th>\n",
       "      <td>-1.027082</td>\n",
       "      <td>-0.684438</td>\n",
       "      <td>1.058979</td>\n",
       "      <td>-0.396924</td>\n",
       "      <td>-0.635700</td>\n",
       "      <td>0.882523</td>\n",
       "      <td>-0.063125</td>\n",
       "    </tr>\n",
       "    <tr>\n",
       "      <th>1</th>\n",
       "      <td>0.936889</td>\n",
       "      <td>0.040909</td>\n",
       "      <td>-0.956397</td>\n",
       "      <td>-2.050813</td>\n",
       "      <td>0.008324</td>\n",
       "      <td>-1.078639</td>\n",
       "      <td>-0.063125</td>\n",
       "    </tr>\n",
       "    <tr>\n",
       "      <th>2</th>\n",
       "      <td>-0.045096</td>\n",
       "      <td>-0.684438</td>\n",
       "      <td>-1.964085</td>\n",
       "      <td>-0.190188</td>\n",
       "      <td>-1.279724</td>\n",
       "      <td>1.372813</td>\n",
       "      <td>1.220767</td>\n",
       "    </tr>\n",
       "    <tr>\n",
       "      <th>3</th>\n",
       "      <td>-0.045096</td>\n",
       "      <td>1.008039</td>\n",
       "      <td>1.058979</td>\n",
       "      <td>-0.190188</td>\n",
       "      <td>0.008324</td>\n",
       "      <td>-0.098058</td>\n",
       "      <td>-0.063125</td>\n",
       "    </tr>\n",
       "    <tr>\n",
       "      <th>4</th>\n",
       "      <td>-0.045096</td>\n",
       "      <td>0.645365</td>\n",
       "      <td>1.058979</td>\n",
       "      <td>-0.190188</td>\n",
       "      <td>0.008324</td>\n",
       "      <td>-1.078639</td>\n",
       "      <td>-0.063125</td>\n",
       "    </tr>\n",
       "  </tbody>\n",
       "</table>\n",
       "</div>"
      ],
      "text/plain": [
       "      waist      size   quality      hips  bra_size    height  shoe_size\n",
       "0 -1.027082 -0.684438  1.058979 -0.396924 -0.635700  0.882523  -0.063125\n",
       "1  0.936889  0.040909 -0.956397 -2.050813  0.008324 -1.078639  -0.063125\n",
       "2 -0.045096 -0.684438 -1.964085 -0.190188 -1.279724  1.372813   1.220767\n",
       "3 -0.045096  1.008039  1.058979 -0.190188  0.008324 -0.098058  -0.063125\n",
       "4 -0.045096  0.645365  1.058979 -0.190188  0.008324 -1.078639  -0.063125"
      ]
     },
     "execution_count": 14,
     "metadata": {},
     "output_type": "execute_result"
    }
   ],
   "source": [
    "from sklearn.preprocessing import StandardScaler\n",
    "\n",
    "numeric_columns = ['waist', 'size', 'quality', 'hips', 'bra_size', 'height', 'shoe_size']\n",
    "scaler = StandardScaler()\n",
    "df_records_numeric = pd.DataFrame(scaler.fit_transform(df_records.loc[:, numeric_columns]), \n",
    "                                  columns=numeric_columns)\n",
    "df_records_numeric.head()"
   ]
  },
  {
   "cell_type": "code",
   "execution_count": null,
   "metadata": {},
   "outputs": [],
   "source": []
  },
  {
   "cell_type": "markdown",
   "metadata": {},
   "source": [
    "### Convert Categorical Features into Labels"
   ]
  },
  {
   "cell_type": "code",
   "execution_count": 16,
   "metadata": {},
   "outputs": [
    {
     "data": {
      "text/html": [
       "<div>\n",
       "<style scoped>\n",
       "    .dataframe tbody tr th:only-of-type {\n",
       "        vertical-align: middle;\n",
       "    }\n",
       "\n",
       "    .dataframe tbody tr th {\n",
       "        vertical-align: top;\n",
       "    }\n",
       "\n",
       "    .dataframe thead th {\n",
       "        text-align: right;\n",
       "    }\n",
       "</style>\n",
       "<table border=\"1\" class=\"dataframe\">\n",
       "  <thead>\n",
       "    <tr style=\"text-align: right;\">\n",
       "      <th></th>\n",
       "      <th>item_id</th>\n",
       "      <th>category</th>\n",
       "      <th>cup_size</th>\n",
       "      <th>user_id</th>\n",
       "      <th>fit</th>\n",
       "    </tr>\n",
       "  </thead>\n",
       "  <tbody>\n",
       "    <tr>\n",
       "      <th>0</th>\n",
       "      <td>0</td>\n",
       "      <td>2</td>\n",
       "      <td>4</td>\n",
       "      <td>47557</td>\n",
       "      <td>2</td>\n",
       "    </tr>\n",
       "    <tr>\n",
       "      <th>1</th>\n",
       "      <td>0</td>\n",
       "      <td>2</td>\n",
       "      <td>2</td>\n",
       "      <td>28324</td>\n",
       "      <td>2</td>\n",
       "    </tr>\n",
       "    <tr>\n",
       "      <th>2</th>\n",
       "      <td>0</td>\n",
       "      <td>2</td>\n",
       "      <td>2</td>\n",
       "      <td>19037</td>\n",
       "      <td>2</td>\n",
       "    </tr>\n",
       "    <tr>\n",
       "      <th>3</th>\n",
       "      <td>0</td>\n",
       "      <td>2</td>\n",
       "      <td>5</td>\n",
       "      <td>42142</td>\n",
       "      <td>0</td>\n",
       "    </tr>\n",
       "    <tr>\n",
       "      <th>4</th>\n",
       "      <td>0</td>\n",
       "      <td>2</td>\n",
       "      <td>2</td>\n",
       "      <td>45350</td>\n",
       "      <td>2</td>\n",
       "    </tr>\n",
       "  </tbody>\n",
       "</table>\n",
       "</div>"
      ],
      "text/plain": [
       "   item_id  category  cup_size  user_id  fit\n",
       "0        0         2         4    47557    2\n",
       "1        0         2         2    28324    2\n",
       "2        0         2         2    19037    2\n",
       "3        0         2         5    42142    0\n",
       "4        0         2         2    45350    2"
      ]
     },
     "execution_count": 16,
     "metadata": {},
     "output_type": "execute_result"
    }
   ],
   "source": [
    "from sklearn.preprocessing import OrdinalEncoder\n",
    "\n",
    "categorical_columns = ['item_id', 'category', 'cup_size', 'user_id', 'fit']\n",
    "ordinal_enc = OrdinalEncoder()\n",
    "\n",
    "df_records_categorical = pd.DataFrame(np.array(ordinal_enc.fit_transform(df_records.loc[:, categorical_columns]), \n",
    "                                           dtype=np.int64), columns=categorical_columns)\n",
    "df_records_categorical.head()"
   ]
  },
  {
   "cell_type": "code",
   "execution_count": 17,
   "metadata": {},
   "outputs": [
    {
     "data": {
      "text/html": [
       "<div>\n",
       "<style scoped>\n",
       "    .dataframe tbody tr th:only-of-type {\n",
       "        vertical-align: middle;\n",
       "    }\n",
       "\n",
       "    .dataframe tbody tr th {\n",
       "        vertical-align: top;\n",
       "    }\n",
       "\n",
       "    .dataframe thead th {\n",
       "        text-align: right;\n",
       "    }\n",
       "</style>\n",
       "<table border=\"1\" class=\"dataframe\">\n",
       "  <thead>\n",
       "    <tr style=\"text-align: right;\">\n",
       "      <th></th>\n",
       "      <th>waist</th>\n",
       "      <th>size</th>\n",
       "      <th>quality</th>\n",
       "      <th>hips</th>\n",
       "      <th>bra_size</th>\n",
       "      <th>height</th>\n",
       "      <th>shoe_size</th>\n",
       "      <th>item_id</th>\n",
       "      <th>category</th>\n",
       "      <th>cup_size</th>\n",
       "      <th>user_id</th>\n",
       "      <th>fit</th>\n",
       "    </tr>\n",
       "  </thead>\n",
       "  <tbody>\n",
       "    <tr>\n",
       "      <th>0</th>\n",
       "      <td>-1.027082</td>\n",
       "      <td>-0.684438</td>\n",
       "      <td>1.058979</td>\n",
       "      <td>-0.396924</td>\n",
       "      <td>-0.635700</td>\n",
       "      <td>0.882523</td>\n",
       "      <td>-0.063125</td>\n",
       "      <td>0</td>\n",
       "      <td>2</td>\n",
       "      <td>4</td>\n",
       "      <td>47557</td>\n",
       "      <td>2</td>\n",
       "    </tr>\n",
       "    <tr>\n",
       "      <th>1</th>\n",
       "      <td>0.936889</td>\n",
       "      <td>0.040909</td>\n",
       "      <td>-0.956397</td>\n",
       "      <td>-2.050813</td>\n",
       "      <td>0.008324</td>\n",
       "      <td>-1.078639</td>\n",
       "      <td>-0.063125</td>\n",
       "      <td>0</td>\n",
       "      <td>2</td>\n",
       "      <td>2</td>\n",
       "      <td>28324</td>\n",
       "      <td>2</td>\n",
       "    </tr>\n",
       "    <tr>\n",
       "      <th>2</th>\n",
       "      <td>-0.045096</td>\n",
       "      <td>-0.684438</td>\n",
       "      <td>-1.964085</td>\n",
       "      <td>-0.190188</td>\n",
       "      <td>-1.279724</td>\n",
       "      <td>1.372813</td>\n",
       "      <td>1.220767</td>\n",
       "      <td>0</td>\n",
       "      <td>2</td>\n",
       "      <td>2</td>\n",
       "      <td>19037</td>\n",
       "      <td>2</td>\n",
       "    </tr>\n",
       "  </tbody>\n",
       "</table>\n",
       "</div>"
      ],
      "text/plain": [
       "      waist      size   quality      hips  bra_size    height  shoe_size  \\\n",
       "0 -1.027082 -0.684438  1.058979 -0.396924 -0.635700  0.882523  -0.063125   \n",
       "1  0.936889  0.040909 -0.956397 -2.050813  0.008324 -1.078639  -0.063125   \n",
       "2 -0.045096 -0.684438 -1.964085 -0.190188 -1.279724  1.372813   1.220767   \n",
       "\n",
       "   item_id  category  cup_size  user_id  fit  \n",
       "0        0         2         4    47557    2  \n",
       "1        0         2         2    28324    2  \n",
       "2        0         2         2    19037    2  "
      ]
     },
     "execution_count": 17,
     "metadata": {},
     "output_type": "execute_result"
    }
   ],
   "source": [
    "df_records = pd.concat([df_records_numeric, df_records_categorical], axis=1)\n",
    "df_records.head(3)"
   ]
  },
  {
   "cell_type": "code",
   "execution_count": 18,
   "metadata": {},
   "outputs": [
    {
     "name": "stdout",
     "output_type": "stream",
     "text": [
      "item_id : 1378\n",
      "category : 7\n",
      "cup_size : 12\n",
      "user_id : 47958\n",
      "fit : 3\n"
     ]
    }
   ],
   "source": [
    "# Number of embeddings required for each categorical variable\n",
    "for col in df_records_categorical.columns:\n",
    "    print(col, ':', len(df_records_categorical[col].unique()))"
   ]
  },
  {
   "cell_type": "code",
   "execution_count": null,
   "metadata": {},
   "outputs": [],
   "source": []
  },
  {
   "cell_type": "markdown",
   "metadata": {},
   "source": [
    "### Saving the pre-processed data"
   ]
  },
  {
   "cell_type": "code",
   "execution_count": 19,
   "metadata": {},
   "outputs": [],
   "source": [
    "# Create random train-validation-test splits\n",
    "# 80-10-10 as in the paper\n",
    "from sklearn.model_selection import train_test_split\n",
    "df_train, df_val_test = train_test_split(df_records, random_state=10, test_size=0.2)\n",
    "df_val, df_test = train_test_split(df_val_test, random_state=10, test_size=0.5)"
   ]
  },
  {
   "cell_type": "code",
   "execution_count": 20,
   "metadata": {},
   "outputs": [],
   "source": [
    "save_file = '../data/modcloth_final_data_processed'\n",
    "\n",
    "df_train.to_json(save_file+'_train.jsonl', orient='records', lines=True)\n",
    "df_val.to_json(save_file+'_valid.jsonl', orient='records', lines=True)\n",
    "df_test.to_json(save_file+'_test.jsonl', orient='records', lines=True)"
   ]
  },
  {
   "cell_type": "code",
   "execution_count": null,
   "metadata": {},
   "outputs": [],
   "source": []
  }
 ],
 "metadata": {
  "kernelspec": {
   "display_name": "Python 3",
   "language": "python",
   "name": "python3"
  },
  "language_info": {
   "codemirror_mode": {
    "name": "ipython",
    "version": 3
   },
   "file_extension": ".py",
   "mimetype": "text/x-python",
   "name": "python",
   "nbconvert_exporter": "python",
   "pygments_lexer": "ipython3",
   "version": "3.6.2"
  }
 },
 "nbformat": 4,
 "nbformat_minor": 4
}
